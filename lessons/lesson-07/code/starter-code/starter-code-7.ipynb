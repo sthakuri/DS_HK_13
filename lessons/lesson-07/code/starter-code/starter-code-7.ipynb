{
 "cells": [
  {
   "cell_type": "markdown",
   "metadata": {},
   "source": [
    "### Class 7- Starter code\n"
   ]
  },
  {
   "cell_type": "code",
   "execution_count": 1,
   "metadata": {
    "collapsed": false
   },
   "outputs": [],
   "source": [
    "import numpy as np\n",
    "import pandas as pd\n",
    "from sklearn import linear_model, metrics\n"
   ]
  },
  {
   "cell_type": "markdown",
   "metadata": {},
   "source": [
    "### Create sample data and fit a model"
   ]
  },
  {
   "cell_type": "code",
   "execution_count": 2,
   "metadata": {
    "collapsed": false
   },
   "outputs": [],
   "source": [
    "df = pd.DataFrame({'x': range(100), 'y': range(100)})\n",
    "biased_df  = df.copy()\n",
    "biased_df.loc[:20, 'x'] = 1\n",
    "biased_df.loc[:20, 'y'] = 1\n",
    "\n",
    "def append_jitter(series):\n",
    "    jitter = np.random.random_sample(size=100)\n",
    "    return series + jitter\n",
    "\n",
    "df['x'] = append_jitter(df.x)\n",
    "df['y'] = append_jitter(df.y)\n",
    "\n",
    "biased_df['x'] = append_jitter(biased_df.x)\n",
    "biased_df['y'] = append_jitter(biased_df.y)\n"
   ]
  },
  {
   "cell_type": "code",
   "execution_count": 3,
   "metadata": {
    "collapsed": false
   },
   "outputs": [
    {
     "data": {
      "text/html": [
       "<div>\n",
       "<table border=\"1\" class=\"dataframe\">\n",
       "  <thead>\n",
       "    <tr style=\"text-align: right;\">\n",
       "      <th></th>\n",
       "      <th>x</th>\n",
       "      <th>y</th>\n",
       "    </tr>\n",
       "  </thead>\n",
       "  <tbody>\n",
       "    <tr>\n",
       "      <th>0</th>\n",
       "      <td>1.913118</td>\n",
       "      <td>1.236436</td>\n",
       "    </tr>\n",
       "    <tr>\n",
       "      <th>1</th>\n",
       "      <td>1.756893</td>\n",
       "      <td>1.221433</td>\n",
       "    </tr>\n",
       "    <tr>\n",
       "      <th>2</th>\n",
       "      <td>1.456151</td>\n",
       "      <td>1.025109</td>\n",
       "    </tr>\n",
       "    <tr>\n",
       "      <th>3</th>\n",
       "      <td>1.566911</td>\n",
       "      <td>1.313634</td>\n",
       "    </tr>\n",
       "    <tr>\n",
       "      <th>4</th>\n",
       "      <td>1.873794</td>\n",
       "      <td>1.389400</td>\n",
       "    </tr>\n",
       "    <tr>\n",
       "      <th>5</th>\n",
       "      <td>1.423875</td>\n",
       "      <td>1.356192</td>\n",
       "    </tr>\n",
       "    <tr>\n",
       "      <th>6</th>\n",
       "      <td>1.606554</td>\n",
       "      <td>1.525028</td>\n",
       "    </tr>\n",
       "    <tr>\n",
       "      <th>7</th>\n",
       "      <td>1.171561</td>\n",
       "      <td>1.875437</td>\n",
       "    </tr>\n",
       "    <tr>\n",
       "      <th>8</th>\n",
       "      <td>1.299391</td>\n",
       "      <td>1.265489</td>\n",
       "    </tr>\n",
       "    <tr>\n",
       "      <th>9</th>\n",
       "      <td>1.088516</td>\n",
       "      <td>1.524817</td>\n",
       "    </tr>\n",
       "    <tr>\n",
       "      <th>10</th>\n",
       "      <td>1.255608</td>\n",
       "      <td>1.182884</td>\n",
       "    </tr>\n",
       "    <tr>\n",
       "      <th>11</th>\n",
       "      <td>1.505515</td>\n",
       "      <td>1.369230</td>\n",
       "    </tr>\n",
       "    <tr>\n",
       "      <th>12</th>\n",
       "      <td>1.670065</td>\n",
       "      <td>1.679197</td>\n",
       "    </tr>\n",
       "    <tr>\n",
       "      <th>13</th>\n",
       "      <td>1.918497</td>\n",
       "      <td>1.428869</td>\n",
       "    </tr>\n",
       "    <tr>\n",
       "      <th>14</th>\n",
       "      <td>1.675414</td>\n",
       "      <td>1.149904</td>\n",
       "    </tr>\n",
       "    <tr>\n",
       "      <th>15</th>\n",
       "      <td>1.644096</td>\n",
       "      <td>1.596268</td>\n",
       "    </tr>\n",
       "    <tr>\n",
       "      <th>16</th>\n",
       "      <td>1.428467</td>\n",
       "      <td>1.938611</td>\n",
       "    </tr>\n",
       "    <tr>\n",
       "      <th>17</th>\n",
       "      <td>1.902621</td>\n",
       "      <td>1.358269</td>\n",
       "    </tr>\n",
       "    <tr>\n",
       "      <th>18</th>\n",
       "      <td>1.666994</td>\n",
       "      <td>1.071677</td>\n",
       "    </tr>\n",
       "    <tr>\n",
       "      <th>19</th>\n",
       "      <td>1.157624</td>\n",
       "      <td>1.647912</td>\n",
       "    </tr>\n",
       "  </tbody>\n",
       "</table>\n",
       "</div>"
      ],
      "text/plain": [
       "           x         y\n",
       "0   1.913118  1.236436\n",
       "1   1.756893  1.221433\n",
       "2   1.456151  1.025109\n",
       "3   1.566911  1.313634\n",
       "4   1.873794  1.389400\n",
       "5   1.423875  1.356192\n",
       "6   1.606554  1.525028\n",
       "7   1.171561  1.875437\n",
       "8   1.299391  1.265489\n",
       "9   1.088516  1.524817\n",
       "10  1.255608  1.182884\n",
       "11  1.505515  1.369230\n",
       "12  1.670065  1.679197\n",
       "13  1.918497  1.428869\n",
       "14  1.675414  1.149904\n",
       "15  1.644096  1.596268\n",
       "16  1.428467  1.938611\n",
       "17  1.902621  1.358269\n",
       "18  1.666994  1.071677\n",
       "19  1.157624  1.647912"
      ]
     },
     "execution_count": 3,
     "metadata": {},
     "output_type": "execute_result"
    }
   ],
   "source": [
    "biased_df.head(20)"
   ]
  },
  {
   "cell_type": "code",
   "execution_count": 4,
   "metadata": {
    "collapsed": false
   },
   "outputs": [
    {
     "name": "stdout",
     "output_type": "stream",
     "text": [
      "0.171449503114\n"
     ]
    }
   ],
   "source": [
    "## fit\n",
    "lm = linear_model.LinearRegression().fit(df[['x']], df['y'])\n",
    "print metrics.mean_squared_error(df['y'], lm.predict(df[['x']]))\n"
   ]
  },
  {
   "cell_type": "code",
   "execution_count": 5,
   "metadata": {
    "collapsed": false
   },
   "outputs": [
    {
     "name": "stdout",
     "output_type": "stream",
     "text": [
      "0.173380369196\n"
     ]
    }
   ],
   "source": [
    "## biased fit\n",
    "lm = linear_model.LinearRegression().fit(biased_df[['x']], biased_df['y'])\n",
    "print metrics.mean_squared_error(df['y'], lm.predict(df[['x']]))"
   ]
  },
  {
   "cell_type": "markdown",
   "metadata": {},
   "source": [
    "## Cross validation\n",
    "#### Intro to cross validation with bike share data from last time. We will be modeling casual ridership. "
   ]
  },
  {
   "cell_type": "code",
   "execution_count": 6,
   "metadata": {
    "collapsed": false
   },
   "outputs": [
    {
     "name": "stderr",
     "output_type": "stream",
     "text": [
      "/Users/alexj/anaconda3/envs/py27/lib/python2.7/site-packages/sklearn/cross_validation.py:44: DeprecationWarning: This module was deprecated in version 0.18 in favor of the model_selection module into which all the refactored classes and functions are moved. Also note that the interface of the new CV iterators are different from that of this module. This module will be removed in 0.20.\n",
      "  \"This module will be removed in 0.20.\", DeprecationWarning)\n"
     ]
    }
   ],
   "source": [
    "from sklearn import cross_validation\n",
    "wd = '../../assets/dataset/'\n",
    "bikeshare = pd.read_csv(wd + 'bikeshare.csv')"
   ]
  },
  {
   "cell_type": "markdown",
   "metadata": {},
   "source": [
    "#### Create dummy variables and set outcome (dependent) variable"
   ]
  },
  {
   "cell_type": "code",
   "execution_count": 7,
   "metadata": {
    "collapsed": true
   },
   "outputs": [],
   "source": [
    "weather = pd.get_dummies(bikeshare.weathersit, prefix='weather')\n",
    "modeldata = bikeshare[['temp', 'hum']].join(weather[['weather_1', 'weather_2', 'weather_3']])\n",
    "y = bikeshare.casual "
   ]
  },
  {
   "cell_type": "markdown",
   "metadata": {},
   "source": [
    "#### Create a cross valiation with 5 folds"
   ]
  },
  {
   "cell_type": "code",
   "execution_count": 8,
   "metadata": {
    "collapsed": true
   },
   "outputs": [
    {
     "name": "stdout",
     "output_type": "stream",
     "text": [
      "~~~~ SUMMARY OF CROSS VALIDATION 2 FOLDS~~~~\n",
      "Mean of MSE for all folds: 1673.86698949\n",
      "Mean of R2 for all folds: 0.311758308058\n",
      "\n",
      "~~~~ SUMMARY OF CROSS VALIDATION 4 FOLDS~~~~\n",
      "Mean of MSE for all folds: 1673.45021851\n",
      "Mean of R2 for all folds: 0.311883671539\n",
      "\n",
      "~~~~ SUMMARY OF CROSS VALIDATION 6 FOLDS~~~~\n",
      "Mean of MSE for all folds: 1673.70342337\n",
      "Mean of R2 for all folds: 0.311892251496\n",
      "\n",
      "~~~~ SUMMARY OF CROSS VALIDATION 8 FOLDS~~~~\n",
      "Mean of MSE for all folds: 1674.1510228\n",
      "Mean of R2 for all folds: 0.311891775013\n",
      "\n",
      "~~~~ SUMMARY OF CROSS VALIDATION 10 FOLDS~~~~\n",
      "Mean of MSE for all folds: 1673.72104727\n",
      "Mean of R2 for all folds: 0.311909592003\n",
      "\n",
      "~~~~ SUMMARY OF CROSS VALIDATION 12 FOLDS~~~~\n",
      "Mean of MSE for all folds: 1673.35669203\n",
      "Mean of R2 for all folds: 0.311921002828\n",
      "\n",
      "~~~~ SUMMARY OF CROSS VALIDATION 14 FOLDS~~~~\n",
      "Mean of MSE for all folds: 1673.72928751\n",
      "Mean of R2 for all folds: 0.311917076751\n",
      "\n",
      "~~~~ SUMMARY OF CROSS VALIDATION 16 FOLDS~~~~\n",
      "Mean of MSE for all folds: 1673.49934141\n",
      "Mean of R2 for all folds: 0.311922396509\n",
      "\n",
      "~~~~ SUMMARY OF CROSS VALIDATION 18 FOLDS~~~~\n",
      "Mean of MSE for all folds: 1673.30694787\n",
      "Mean of R2 for all folds: 0.311926290998\n",
      "\n",
      "~~~~ SUMMARY OF CROSS VALIDATION 20 FOLDS~~~~\n",
      "Mean of MSE for all folds: 1673.43320333\n",
      "Mean of R2 for all folds: 0.311925452469\n",
      "\n",
      "~~~~ SUMMARY OF CROSS VALIDATION 22 FOLDS~~~~\n",
      "Mean of MSE for all folds: 1673.34278696\n",
      "Mean of R2 for all folds: 0.311927249714\n",
      "\n",
      "~~~~ SUMMARY OF CROSS VALIDATION 24 FOLDS~~~~\n",
      "Mean of MSE for all folds: 1673.59354794\n",
      "Mean of R2 for all folds: 0.311926042617\n",
      "\n",
      "~~~~ SUMMARY OF CROSS VALIDATION 26 FOLDS~~~~\n",
      "Mean of MSE for all folds: 1673.54750779\n",
      "Mean of R2 for all folds: 0.311927180498\n",
      "\n",
      "~~~~ SUMMARY OF CROSS VALIDATION 28 FOLDS~~~~\n",
      "Mean of MSE for all folds: 1673.33963134\n",
      "Mean of R2 for all folds: 0.311928776758\n",
      "\n",
      "~~~~ SUMMARY OF CROSS VALIDATION 30 FOLDS~~~~\n",
      "Mean of MSE for all folds: 1673.42952929\n",
      "Mean of R2 for all folds: 0.311928679641\n",
      "\n",
      "~~~~ SUMMARY OF CROSS VALIDATION 32 FOLDS~~~~\n",
      "Mean of MSE for all folds: 1673.32790884\n",
      "Mean of R2 for all folds: 0.311929791537\n",
      "\n",
      "~~~~ SUMMARY OF CROSS VALIDATION 34 FOLDS~~~~\n",
      "Mean of MSE for all folds: 1673.44427721\n",
      "Mean of R2 for all folds: 0.311929380147\n",
      "\n",
      "~~~~ SUMMARY OF CROSS VALIDATION 36 FOLDS~~~~\n",
      "Mean of MSE for all folds: 1673.5273944\n",
      "Mean of R2 for all folds: 0.311929149498\n",
      "\n",
      "~~~~ SUMMARY OF CROSS VALIDATION 38 FOLDS~~~~\n",
      "Mean of MSE for all folds: 1673.61323925\n",
      "Mean of R2 for all folds: 0.311929037108\n",
      "\n",
      "~~~~ SUMMARY OF CROSS VALIDATION 40 FOLDS~~~~\n",
      "Mean of MSE for all folds: 1673.45581422\n",
      "Mean of R2 for all folds: 0.311929862835\n",
      "\n",
      "~~~~ SUMMARY OF CROSS VALIDATION 42 FOLDS~~~~\n",
      "Mean of MSE for all folds: 1673.35813517\n",
      "Mean of R2 for all folds: 0.311930379757\n",
      "\n",
      "~~~~ SUMMARY OF CROSS VALIDATION 44 FOLDS~~~~\n",
      "Mean of MSE for all folds: 1673.53809084\n",
      "Mean of R2 for all folds: 0.311930173002\n",
      "\n",
      "~~~~ SUMMARY OF CROSS VALIDATION 46 FOLDS~~~~\n",
      "Mean of MSE for all folds: 1673.40628208\n",
      "Mean of R2 for all folds: 0.311930849737\n",
      "\n",
      "~~~~ SUMMARY OF CROSS VALIDATION 48 FOLDS~~~~\n",
      "Mean of MSE for all folds: 1673.45647271\n",
      "Mean of R2 for all folds: 0.3119308844\n",
      "\n",
      "~~~~ SUMMARY OF CROSS VALIDATION 50 FOLDS~~~~\n",
      "Mean of MSE for all folds: 1673.43165563\n",
      "Mean of R2 for all folds: 0.311931423527\n",
      "\n"
     ]
    }
   ],
   "source": [
    "for k in range(2,51,2):\n",
    "    kf = cross_validation.KFold(len(modeldata), n_folds=k, shuffle=True)\n",
    "    mse_values = []\n",
    "    scores = []\n",
    "    for train_index, test_index in kf:\n",
    "        lm = linear_model.LinearRegression().fit(modeldata.iloc[train_index], y.iloc[train_index])\n",
    "        mse_values.append(metrics.mean_squared_error(y.iloc[test_index], lm.predict(modeldata.iloc[test_index])))\n",
    "        scores.append(lm.score(modeldata, y))\n",
    "    print \"~~~~ SUMMARY OF CROSS VALIDATION {} FOLDS~~~~\".format(k)\n",
    "    print 'Mean of MSE for all folds:', np.mean(mse_values)\n",
    "    print 'Mean of R2 for all folds:', np.mean(scores)\n",
    "    print"
   ]
  },
  {
   "cell_type": "code",
   "execution_count": 9,
   "metadata": {
    "collapsed": false
   },
   "outputs": [],
   "source": [
    "kf = cross_validation.KFold(len(modeldata), n_folds=5, shuffle=True)"
   ]
  },
  {
   "cell_type": "code",
   "execution_count": 10,
   "metadata": {
    "collapsed": false
   },
   "outputs": [
    {
     "name": "stdout",
     "output_type": "stream",
     "text": [
      "~~~~ CROSS VALIDATION each fold ~~~~\n",
      "Model 1\n",
      "MSE: 1749.25142719\n",
      "R2: 0.311862711846\n",
      "Model 2\n",
      "MSE: 1555.06981362\n",
      "R2: 0.311843784742\n",
      "Model 3\n",
      "MSE: 1788.24927976\n",
      "R2: 0.311874819503\n",
      "Model 4\n",
      "MSE: 1603.60919386\n",
      "R2: 0.311914014443\n",
      "Model 5\n",
      "MSE: 1673.83048426\n",
      "R2: 0.311853071257\n",
      "~~~~ SUMMARY OF CROSS VALIDATION ~~~~\n",
      "Mean of MSE for all folds: 1674.00203974\n",
      "Mean of R2 for all folds: 0.311869680358\n"
     ]
    }
   ],
   "source": [
    "mse_values = []\n",
    "scores = []\n",
    "n= 0\n",
    "print \"~~~~ CROSS VALIDATION each fold ~~~~\"\n",
    "for train_index, test_index in kf:\n",
    "    lm = linear_model.LinearRegression().fit(modeldata.iloc[train_index], y.iloc[train_index])\n",
    "    mse_values.append(metrics.mean_squared_error(y.iloc[test_index], lm.predict(modeldata.iloc[test_index])))\n",
    "    scores.append(lm.score(modeldata, y))\n",
    "    n+=1\n",
    "    print 'Model', n\n",
    "    print 'MSE:', mse_values[n-1]\n",
    "    print 'R2:', scores[n-1]\n",
    "\n",
    "\n",
    "print \"~~~~ SUMMARY OF CROSS VALIDATION ~~~~\"\n",
    "print 'Mean of MSE for all folds:', np.mean(mse_values)\n",
    "print 'Mean of R2 for all folds:', np.mean(scores)"
   ]
  },
  {
   "cell_type": "code",
   "execution_count": 11,
   "metadata": {
    "collapsed": false
   },
   "outputs": [
    {
     "name": "stdout",
     "output_type": "stream",
     "text": [
      "~~~~ Single Model ~~~~\n",
      "MSE of single model: 1672.58110765\n",
      "R2:  0.311934605989\n"
     ]
    }
   ],
   "source": [
    "lm = linear_model.LinearRegression().fit(modeldata, y)\n",
    "print \"~~~~ Single Model ~~~~\"\n",
    "print 'MSE of single model:', metrics.mean_squared_error(y, lm.predict(modeldata))\n",
    "print 'R2: ', lm.score(modeldata, y)"
   ]
  },
  {
   "cell_type": "markdown",
   "metadata": {},
   "source": [
    "### Check\n",
    "While the cross validated approach here generated more overall error, which of the two approaches would predict new data more accurately: the single model or the cross validated, averaged one? Why?\n"
   ]
  },
  {
   "cell_type": "markdown",
   "metadata": {},
   "source": [
    "Answer: "
   ]
  },
  {
   "cell_type": "markdown",
   "metadata": {},
   "source": [
    "### There are ways to improve our model with regularization. \n",
    "Let's check out the effects on MSE and R2"
   ]
  },
  {
   "cell_type": "code",
   "execution_count": 12,
   "metadata": {
    "collapsed": false
   },
   "outputs": [
    {
     "name": "stdout",
     "output_type": "stream",
     "text": [
      "~~~ OLS ~~~\n",
      "OLS MSE:  1672.58110765\n",
      "OLS R2: 0.311934605989\n",
      "~~~ Lasso ~~~\n",
      "Lasso MSE:  1725.41581608\n",
      "Lasso R2: 0.290199495922\n",
      "~~~ Ridge ~~~\n",
      "Ridge MSE:  1672.60490113\n",
      "Ridge R2: 0.311924817843\n"
     ]
    }
   ],
   "source": [
    "lm = linear_model.LinearRegression().fit(modeldata, y)\n",
    "print \"~~~ OLS ~~~\"\n",
    "print 'OLS MSE: ', metrics.mean_squared_error(y, lm.predict(modeldata))\n",
    "print 'OLS R2:', lm.score(modeldata, y)\n",
    "\n",
    "lm = linear_model.Lasso().fit(modeldata, y)\n",
    "print \"~~~ Lasso ~~~\"\n",
    "print 'Lasso MSE: ', metrics.mean_squared_error(y, lm.predict(modeldata))\n",
    "print 'Lasso R2:', lm.score(modeldata, y)\n",
    "\n",
    "lm = linear_model.Ridge().fit(modeldata, y)\n",
    "print \"~~~ Ridge ~~~\"\n",
    "print 'Ridge MSE: ', metrics.mean_squared_error(y, lm.predict(modeldata))\n",
    "print 'Ridge R2:', lm.score(modeldata, y)"
   ]
  },
  {
   "cell_type": "markdown",
   "metadata": {},
   "source": [
    "### Figuring out the alphas can be done by \"hand\""
   ]
  },
  {
   "cell_type": "code",
   "execution_count": 28,
   "metadata": {
    "collapsed": false
   },
   "outputs": [
    {
     "name": "stdout",
     "output_type": "stream",
     "text": [
      "1672.58110765 Alpha: 1e-10 [ 112.68901765  -84.01121684  -24.68489063  -21.00314493  -21.71893628]\n",
      "1672.58110765 Alpha: 1e-09 [ 112.68901765  -84.01121684  -24.68489061  -21.00314491  -21.71893626]\n",
      "1672.58110765 Alpha: 1e-08 [ 112.68901765  -84.01121684  -24.6848904   -21.00314471  -21.71893606]\n",
      "1672.58110765 Alpha: 1e-07 [ 112.68901763  -84.01121682  -24.68488837  -21.00314268  -21.71893403]\n",
      "1672.58110765 Alpha: 1e-06 [ 112.68901745  -84.01121667  -24.68486804  -21.00312237  -21.71891373]\n",
      "1672.58110765 Alpha: 1e-05 [ 112.68901562  -84.01121509  -24.68466472  -21.00291929  -21.71871079]\n",
      "1672.58110765 Alpha: 0.0001 [ 112.68899732  -84.01119938  -24.68263174  -21.00088873  -21.71668162]\n",
      "1672.58110774 Alpha: 0.001 [ 112.68881437  -84.01104228  -24.66232204  -20.98060316  -21.69640993]\n",
      "1672.58111645 Alpha: 0.01 [ 112.68698753  -84.00947323  -24.46121539  -20.77973778  -21.49568404]\n",
      "1672.58185208 Alpha: 0.1 [ 112.66896732  -83.99396383  -22.63109556  -18.95202277  -19.66942371]\n",
      "1672.60490113 Alpha: 1.0 [ 112.50129738  -83.84805622  -13.38214934   -9.72671278  -10.46162477]\n",
      "1672.83347262 Alpha: 10.0 [ 110.96062533  -82.49604961   -3.94431741   -0.51765034   -1.45024412]\n",
      "1686.31830362 Alpha: 100.0 [ 97.69060562 -71.17602377  -0.31585194   1.18284675  -1.33281591]\n",
      "1937.81576044 Alpha: 1000.0 [ 44.59923075 -30.85843772   5.07876321   0.05369643  -5.107457  ]\n",
      "2314.83675678 Alpha: 10000.0 [ 7.03007064 -5.07733082  3.29039029 -1.2136063  -2.06842808]\n",
      "2415.77806566 Alpha: 100000.0 [ 0.75195708 -0.56490872  0.52067881 -0.25075496 -0.26895254]\n",
      "2429.28026459 Alpha: 1000000.0 [ 0.07576571 -0.05727511  0.05520142 -0.0273591  -0.02774349]\n",
      "2430.68891798 Alpha: 10000000.0 [ 0.00758239 -0.00573569  0.0055535  -0.00276043 -0.00278317]\n",
      "2430.83041212 Alpha: 100000000.0 [ 0.0007583  -0.00057365  0.00055569 -0.00027629 -0.00027841]\n",
      "2430.84456787 Alpha: 1000000000.0 [  7.58303020e-05  -5.73659720e-05   5.55719458e-05  -2.76314619e-05\n",
      "  -2.78414555e-05]\n",
      "2430.84598351 Alpha: 10000000000.0 [  7.58303603e-06  -5.73660542e-06   5.55722818e-06  -2.76317091e-06\n",
      "  -2.78415441e-06]\n"
     ]
    }
   ],
   "source": [
    "alphas = np.logspace(-10, 10, 21)\n",
    "for a in alphas:\n",
    "    lm = linear_model.Ridge(alpha=a)\n",
    "    lm.fit(modeldata, y)\n",
    "#     print lm.coef_\n",
    "    print metrics.mean_squared_error(y, lm.predict(modeldata)), 'Alpha:', a, lm.coef_"
   ]
  },
  {
   "cell_type": "markdown",
   "metadata": {},
   "source": [
    "### Or we can use grid search to make this faster"
   ]
  },
  {
   "cell_type": "code",
   "execution_count": 24,
   "metadata": {
    "collapsed": false
   },
   "outputs": [
    {
     "data": {
      "text/plain": [
       "GridSearchCV(cv=None, error_score='raise',\n",
       "       estimator=Ridge(alpha=1.0, copy_X=True, fit_intercept=True, max_iter=None,\n",
       "   normalize=False, random_state=None, solver='auto', tol=0.001),\n",
       "       fit_params={}, iid=True, n_jobs=1,\n",
       "       param_grid={'alpha': array([  1.00000e-10,   1.00000e-09,   1.00000e-08,   1.00000e-07,\n",
       "         1.00000e-06,   1.00000e-05,   1.00000e-04,   1.00000e-03,\n",
       "         1.00000e-02,   1.00000e-01,   1.00000e+00,   1.00000e+01,\n",
       "         1.00000e+02,   1.00000e+03,   1.00000e+04,   1.00000e+05,\n",
       "         1.00000e+06,   1.00000e+07,   1.00000e+08,   1.00000e+09,\n",
       "         1.00000e+10])},\n",
       "       pre_dispatch='2*n_jobs', refit=True,\n",
       "       scoring='neg_mean_squared_error', verbose=0)"
      ]
     },
     "execution_count": 24,
     "metadata": {},
     "output_type": "execute_result"
    }
   ],
   "source": [
    "from sklearn import grid_search\n",
    "\n",
    "alphas = np.logspace(-10, 10, 21)\n",
    "gs = grid_search.GridSearchCV(\n",
    "    estimator=linear_model.Ridge(),\n",
    "    param_grid={'alpha': alphas},\n",
    "    scoring='neg_mean_squared_error')\n",
    "\n",
    "gs.fit(modeldata, y)\n"
   ]
  },
  {
   "cell_type": "markdown",
   "metadata": {},
   "source": [
    "##### Best score "
   ]
  },
  {
   "cell_type": "code",
   "execution_count": 25,
   "metadata": {
    "collapsed": false
   },
   "outputs": [
    {
     "data": {
      "text/plain": [
       "-1814.0936913337962"
      ]
     },
     "execution_count": 25,
     "metadata": {},
     "output_type": "execute_result"
    }
   ],
   "source": [
    "gs.best_score_ "
   ]
  },
  {
   "cell_type": "markdown",
   "metadata": {},
   "source": [
    "##### mean squared error here comes in negative, so let's make it positive."
   ]
  },
  {
   "cell_type": "code",
   "execution_count": 26,
   "metadata": {
    "collapsed": false
   },
   "outputs": [
    {
     "data": {
      "text/plain": [
       "1814.0936913337962"
      ]
     },
     "execution_count": 26,
     "metadata": {},
     "output_type": "execute_result"
    }
   ],
   "source": [
    "-gs.best_score_ "
   ]
  },
  {
   "cell_type": "markdown",
   "metadata": {},
   "source": [
    "##### explains which grid_search setup worked best"
   ]
  },
  {
   "cell_type": "code",
   "execution_count": 27,
   "metadata": {
    "collapsed": false
   },
   "outputs": [
    {
     "data": {
      "text/plain": [
       "Ridge(alpha=10.0, copy_X=True, fit_intercept=True, max_iter=None,\n",
       "   normalize=False, random_state=None, solver='auto', tol=0.001)"
      ]
     },
     "execution_count": 27,
     "metadata": {},
     "output_type": "execute_result"
    }
   ],
   "source": [
    "gs.best_estimator_ "
   ]
  },
  {
   "cell_type": "markdown",
   "metadata": {},
   "source": [
    "##### shows all the grid pairings and their performances."
   ]
  },
  {
   "cell_type": "code",
   "execution_count": 18,
   "metadata": {
    "collapsed": false
   },
   "outputs": [
    {
     "name": "stdout",
     "output_type": "stream",
     "text": [
      "mean: -1817.58711, std: 542.14315, params: {'alpha': 1e-10}\n",
      "mean: -1817.58711, std: 542.14315, params: {'alpha': 1.0000000000000001e-09}\n",
      "mean: -1817.58711, std: 542.14315, params: {'alpha': 1e-08}\n",
      "mean: -1817.58711, std: 542.14315, params: {'alpha': 9.9999999999999995e-08}\n",
      "mean: -1817.58711, std: 542.14315, params: {'alpha': 9.9999999999999995e-07}\n",
      "mean: -1817.58711, std: 542.14317, params: {'alpha': 1.0000000000000001e-05}\n",
      "mean: -1817.58707, std: 542.14331, params: {'alpha': 0.0001}\n",
      "mean: -1817.58663, std: 542.14477, params: {'alpha': 0.001}\n",
      "mean: -1817.58230, std: 542.15933, params: {'alpha': 0.01}\n",
      "mean: -1817.54318, std: 542.30102, params: {'alpha': 0.10000000000000001}\n",
      "mean: -1817.20111, std: 543.63587, params: {'alpha': 1.0}\n",
      "mean: -1814.09369, std: 556.35563, params: {'alpha': 10.0}\n",
      "mean: -1818.51694, std: 653.68607, params: {'alpha': 100.0}\n",
      "mean: -2125.58777, std: 872.45270, params: {'alpha': 1000.0}\n",
      "mean: -2458.08836, std: 951.30428, params: {'alpha': 10000.0}\n",
      "mean: -2532.21151, std: 962.80083, params: {'alpha': 100000.0}\n",
      "mean: -2541.38479, std: 963.98339, params: {'alpha': 1000000.0}\n",
      "mean: -2542.32833, std: 964.10141, params: {'alpha': 10000000.0}\n",
      "mean: -2542.42296, std: 964.11321, params: {'alpha': 100000000.0}\n",
      "mean: -2542.43242, std: 964.11439, params: {'alpha': 1000000000.0}\n",
      "mean: -2542.43337, std: 964.11450, params: {'alpha': 10000000000.0}\n"
     ]
    }
   ],
   "source": [
    "for s in gs.grid_scores_:\n",
    "    print s"
   ]
  },
  {
   "cell_type": "markdown",
   "metadata": {},
   "source": [
    "### ACTIVITY"
   ]
  },
  {
   "cell_type": "markdown",
   "metadata": {},
   "source": [
    "## Gradient Descent"
   ]
  },
  {
   "cell_type": "code",
   "execution_count": null,
   "metadata": {
    "collapsed": false
   },
   "outputs": [],
   "source": [
    "num_to_approach, start, steps, optimized = 6.2, 0., [-1, 1], False\n",
    "while not optimized:\n",
    "    current_distance = num_to_approach - start\n",
    "    got_better = False\n",
    "    next_steps = [start + i for i in steps]\n",
    "    for n in next_steps:\n",
    "        distance = np.abs(num_to_approach - n)\n",
    "        if distance < current_distance:\n",
    "            got_better = True\n",
    "            print distance, 'is better than', current_distance\n",
    "            current_distance = distance\n",
    "            start = n\n",
    "    if got_better:\n",
    "        print 'found better solution! using', current_distance\n",
    "    else:\n",
    "        optimized = True\n",
    "        print start, 'is closest to', num_to_approach\n"
   ]
  },
  {
   "cell_type": "markdown",
   "metadata": {},
   "source": [
    "### Bonus: \n",
    "implement a stopping point, similar to what n_iter would do in gradient descent when we've reached \"good enough\""
   ]
  },
  {
   "cell_type": "code",
   "execution_count": null,
   "metadata": {
    "collapsed": false
   },
   "outputs": [],
   "source": [
    "\n",
    "\n"
   ]
  },
  {
   "cell_type": "markdown",
   "metadata": {},
   "source": [
    "## Demo: Application of Gradient Descent "
   ]
  },
  {
   "cell_type": "code",
   "execution_count": null,
   "metadata": {
    "collapsed": false
   },
   "outputs": [],
   "source": [
    "lm = linear_model.SGDRegressor()\n",
    "lm.fit(modeldata, y)\n",
    "print \"Gradient Descent R2:\", lm.score(modeldata, y)\n",
    "print \"Gradient Descent MSE:\", metrics.mean_squared_error(y, lm.predict(modeldata))"
   ]
  },
  {
   "cell_type": "markdown",
   "metadata": {},
   "source": [
    "### Check: Untuned, how well did gradient descent perform compared to OLS?"
   ]
  },
  {
   "cell_type": "markdown",
   "metadata": {},
   "source": [
    "Answer: "
   ]
  },
  {
   "cell_type": "markdown",
   "metadata": {},
   "source": [
    "# Independent Practice: Bike data revisited\n",
    "\n",
    "There are tons of ways to approach a regression problem. The regularization techniques appended to ordinary least squares optimizes the size of coefficients to best account for error. Gradient Descent also introduces learning rate (how aggressively do we solve the problem), epsilon (at what point do we say the error margin is acceptable), and iterations (when should we stop no matter what?)\n",
    "\n",
    "For this deliverable, our goals are to:\n",
    "\n",
    "- implement the gradient descent approach to our bike-share modeling problem,\n",
    "- show how gradient descent solves and optimizes the solution,\n",
    "- demonstrate the grid_search module!\n",
    "\n",
    "While exploring the Gradient Descent regressor object, you'll build a grid search using the stochastic gradient descent estimator for the bike-share data set. Continue with either the model you evaluated last class or the simpler one from today. In particular, be sure to implement the \"param_grid\" in the grid search to get answers for the following questions:\n",
    "\n",
    "- With a set of alpha values between 10^-10 and 10^-1, how does the mean squared error change?\n",
    "- Based on the data, we know when to properly use l1 vs l2 regularization. By using a grid search with l1_ratios between 0 and 1 (increasing every 0.05), does that statement hold true? If not, did gradient descent have enough iterations?\n",
    "- How do these results change when you alter the learning rate (eta0)?\n",
    "\n",
    "**Bonus**: Can you see the advantages and disadvantages of using gradient descent after finishing this exercise?"
   ]
  },
  {
   "cell_type": "markdown",
   "metadata": {},
   "source": [
    "### Starter Code"
   ]
  },
  {
   "cell_type": "code",
   "execution_count": null,
   "metadata": {
    "collapsed": true
   },
   "outputs": [],
   "source": [
    "params = {} # put your gradient descent parameters here\n",
    "gs = grid_search.GridSearchCV(\n",
    "    estimator=linear_model.SGDRegressor(),\n",
    "    cv=cross_validation.KFold(len(modeldata), n_folds=5, shuffle=True),\n",
    "    param_grid=params,\n",
    "    scoring='mean_squared_error',\n",
    "    )\n",
    "\n",
    "gs.fit(modeldata, y)\n",
    "\n",
    "print 'BEST ESTIMATOR'\n",
    "print -gs.best_score_\n",
    "print gs.best_estimator_\n",
    "print 'ALL ESTIMATORS'\n",
    "print gs.grid_scores_"
   ]
  },
  {
   "cell_type": "code",
   "execution_count": null,
   "metadata": {
    "collapsed": true
   },
   "outputs": [],
   "source": [
    "## go for it!"
   ]
  },
  {
   "cell_type": "code",
   "execution_count": null,
   "metadata": {
    "collapsed": true
   },
   "outputs": [],
   "source": []
  }
 ],
 "metadata": {
  "anaconda-cloud": {},
  "kernelspec": {
   "display_name": "Python [default]",
   "language": "python",
   "name": "python2"
  },
  "language_info": {
   "codemirror_mode": {
    "name": "ipython",
    "version": 2
   },
   "file_extension": ".py",
   "mimetype": "text/x-python",
   "name": "python",
   "nbconvert_exporter": "python",
   "pygments_lexer": "ipython2",
   "version": "2.7.13"
  }
 },
 "nbformat": 4,
 "nbformat_minor": 0
}
